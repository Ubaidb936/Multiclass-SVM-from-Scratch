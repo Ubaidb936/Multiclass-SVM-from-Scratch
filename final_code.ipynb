{
 "cells": [
  {
   "cell_type": "code",
   "execution_count": 226,
   "id": "09d69f80",
   "metadata": {},
   "outputs": [],
   "source": [
    "from tqdm.notebook import tqdm as notebook\n",
    "import numpy as np\n",
    "import pandas as pd\n",
    "import time\n",
    "import cvxopt\n",
    "\n",
    "from numpy import dot, array\n",
    "\n",
    "import scipy\n",
    "\n",
    "from scipy import sparse\n",
    "\n",
    "import matplotlib.pyplot as plt\n",
    "\n",
    "from cvxopt import matrix, solvers \n",
    "\n",
    "\n",
    "\n",
    "\n",
    "class SVM_MULTICLASS:\n",
    "    def __init__(self):\n",
    "        \n",
    "        self.total_Classes = None\n",
    "        \n",
    "        self.x_train_data = None\n",
    "        \n",
    "        self.mat1 = None\n",
    "        \n",
    "        self.mat2= None\n",
    "        \n",
    "        self.alpha= None\n",
    "        \n",
    "        \n",
    "        self.C= None\n",
    "        \n",
    "        self.degree = None\n",
    "        \n",
    "        self.sigma= None\n",
    "    \n",
    "    \n",
    "    def train(self, x_train, y_train,C ,degree ,sigma ):\n",
    "        \n",
    "      \n",
    "        \n",
    "        opts = {'maxiters' : 50,'solver':'mosek'}\n",
    "        \n",
    "\n",
    "        \n",
    "        total_Classes = len(np.unique(y_train))\n",
    "        \n",
    "        self.total_Classes = total_Classes\n",
    "        \n",
    "        self.C = C\n",
    "        \n",
    "        self.x_train_data = x_train\n",
    "        \n",
    "        x_train_copy = x_train\n",
    "        \n",
    "        y_train_copy = y_train\n",
    "        \n",
    "        self.degree = degree\n",
    "        \n",
    "        self.sigma = sigma \n",
    "        \n",
    "        x_dim = x_train.shape[0]*(total_Classes-1)\n",
    "        y_dim = total_Classes*((x_train.shape[1])+1)\n",
    "\n",
    "#         mat1 = np.zeros(((x_train.shape[0]*(total_Classes-1)),total_Classes*((x_train.shape[1])+1)))\n",
    "        \n",
    "        mat1 = np.zeros((x_dim, y_dim))\n",
    "        \n",
    "\n",
    "#         cnt = 0\n",
    "#         print('step 1')\n",
    "#         for i in notebook(range(0,x_train_copy.shape[0])):\n",
    "#             for p in range(0,total_Classes):\n",
    "#                 if(y_train_copy[i]!=p):   \n",
    "#                     for j in range(0,total_Classes):\n",
    "#                         p1 = j*(x_train.shape[1]+1)\n",
    "#                         p2 = ((j+1)*(x_train.shape[1]+1)) - 1\n",
    "#                         if(j==y_train_copy[i]): \n",
    "#                             mat1[cnt,p1:p2] = x_train_copy[i,:]\n",
    "# #                             p3 = ((j+1)*(x_train.shape[1]+1))-1\n",
    "#                             mat1[cnt,p2] = 1.0\n",
    "# #                             mat1[cnt,(j*(x_train.shape[1]+1)):((j+1)*(x_train.shape[1]+1))-1] = x_train_copy[i,:]\n",
    "# #                             mat1[cnt,((j+1)*(x_train.shape[1]+1))-1] = 1.0\n",
    "#                         elif(j==p):\n",
    "# #                             mat1[cnt,(j*(x_train.shape[1]+1)):((j+1)*(x_train.shape[1]+1))-1] = -1*x_train_copy[i,:]\n",
    "# #                             mat1[cnt,((j+1)*(x_train.shape[1]+1))-1] = -1.0\n",
    "#                             mat1[cnt,p1:p2] = -1*x_train_copy[i,:]\n",
    "#                             mat1[cnt,p2] = -1.0\n",
    "#                     cnt += 1\n",
    "            \n",
    "            \n",
    "        cnt = 0\n",
    "        print('step 1')\n",
    "        for i in notebook(range(0,x_train_copy.shape[0])):\n",
    "            for z in range(0,total_Classes):\n",
    "                if(y_train_copy[i]!=z):   \n",
    "                    for j in range(0,total_Classes):\n",
    "                        p1 = j*(x_train.shape[1]+1)\n",
    "                        p2 = ((j+1)*(x_train.shape[1]+1)) - 1\n",
    "                        if(j==y_train_copy[i]): \n",
    "                            mat1[cnt,p1:p2] = x_train_copy[i,:]\n",
    "#                             p3 = ((j+1)*(x_train.shape[1]+1))-1\n",
    "                            mat1[cnt,p2] = 1.0\n",
    "#                             mat1[cnt,(j*(x_train.shape[1]+1)):((j+1)*(x_train.shape[1]+1))-1] = x_train_copy[i,:]\n",
    "#                             mat1[cnt,((j+1)*(x_train.shape[1]+1))-1] = 1.0\n",
    "                        elif(j==z):\n",
    "#                             mat1[cnt,(j*(x_train.shape[1]+1)):((j+1)*(x_train.shape[1]+1))-1] = -1*x_train_copy[i,:]\n",
    "#                             mat1[cnt,((j+1)*(x_train.shape[1]+1))-1] = -1.0\n",
    "                            mat1[cnt,p1:p2] = -1*x_train_copy[i,:]\n",
    "                            mat1[cnt,p2] = -1.0\n",
    "                    cnt += 1    \n",
    "        self.mat1= mat1           \n",
    "\n",
    "        n_rows = mat1.shape[0]\n",
    "\n",
    "        M1 = sparse.csr_matrix(mat1)\n",
    "        \n",
    "        #Intializing dimensions of the matrices \n",
    "        x_dim1 = (x_train.shape[0]*(total_Classes-1))\n",
    "        y_dim1 = total_Classes\n",
    "        #Initializing matrix 2\n",
    "        mat2 = np.zeros((x_dim1,y_dim1))\n",
    "        \n",
    "        #calculatingkernelizedProduct\n",
    "        Z, mat2 = self.calculateKernelizedProduct(x_train,y_train,sigma,degree)\n",
    "        \n",
    "        \n",
    "        self.mat2 = mat2\n",
    "\n",
    "  \n",
    "        \n",
    "        e = matrix(Z)\n",
    "        \n",
    "        x_dim2 = -1*np.ones((n_rows, 1))\n",
    "        \n",
    "        f = matrix(x_dim2)\n",
    "        \n",
    "        x_dim3 = np.vstack((np.eye(n_rows)*-1,np.eye(n_rows)))\n",
    "        \n",
    "        G = matrix( x_dim3 )\n",
    "        \n",
    "        x_dim4 = np.hstack((np.zeros(n_rows), np.ones(n_rows) * C))\n",
    "        \n",
    "        h = matrix(x_dim4)\n",
    "        \n",
    "        \n",
    "#         opts = {'maxiters' : 30,'solver':'mosek'}\n",
    "        \n",
    "#         opts = {'maxiters' : 50,'solver':'mosek'}\n",
    "        \n",
    "        \n",
    "        \n",
    "        solution = solvers.qp(e, f, G, h ,options = opts)\n",
    "        \n",
    "        \n",
    "        alpha1 = np.array(solution['x']) \n",
    "        \n",
    "        \n",
    "        self.alpha = alpha1\n",
    "        \n",
    "        \n",
    "        \n",
    "    def predict(self,x_test):\n",
    "    \n",
    "        total_Classes = self.total_Classes\n",
    "        x_train_data = self.x_train_data\n",
    "        degree = self.degree\n",
    "        sigma = self.sigma\n",
    "        alpha1 = self.alpha\n",
    "        mat1= self.mat1\n",
    "        mat2= self.mat2\n",
    "\n",
    "        pred_labels = []\n",
    "        n = x_test.shape[0]\n",
    "        print('\\n Calculating prediction values')\n",
    "        for i in notebook(range(0,n)):\n",
    "            \n",
    "                label_score = (alpha1.T)@(self.calculateKernelizedProductforPrediction(x_train_data,x_test,mat2,i,total_Classes,sigma,degree))\n",
    "                maxScoreLabel = np.argmax(label_score)\n",
    "                pred_labels.append(maxScoreLabel)    \n",
    "            \n",
    "        return pred_labels\n",
    "    \n",
    "    \n",
    "    def calculateKernelizedProductforPrediction(self,x_train,x_test,mat2,currentValIndex,total_Classes,sigma,degree):\n",
    "#         X\n",
    "        x_train_copy = x_train\n",
    "        m = (x_train.shape[0]*(total_Classes-1))\n",
    "        Z = np.zeros((m,total_Classes))    \n",
    "        matrix2 = (currentValIndex+1)*np.eye(total_Classes)\n",
    "        t_coeff = (1/(x_train_copy.shape[1]+1))\n",
    "        \n",
    "        for i in (range(0,m)):\n",
    "                for j in range(0,total_Classes):\n",
    "                    cnt = 0\n",
    "                    for k in range(0,total_Classes):\n",
    "                        if(cnt == 2):\n",
    "                            break\n",
    "                        else:\n",
    "                            t1 = int(mat2[i,k])\n",
    "                            t4 = int(matrix2[k,j])\n",
    "                            if(t1 > 0):\n",
    "                                cnt+=1\n",
    "                                if(t4>0):\n",
    "                                    c1 = x_train_copy[t1-1,:]\n",
    "                                    c2 = x_test[t4-1,:]\n",
    "                                    b = c1 - c2\n",
    "                                    a = np.linalg.norm(b)**2\n",
    "                                    Z[i,j] += np.exp(-1*a/(2*sigma**2))   \n",
    "                            elif(t1<0):\n",
    "                                cnt+=1\n",
    "                                if(t4>0):\n",
    "                                    c1 = np.append(x_test[t4-1,:],1.0)\n",
    "                                    c2 = np.append(-1*x_train_copy[-t1-1,:],-1.0)\n",
    "                                    b = c1 - c2\n",
    "                                    a = np.linalg.norm(b)**2\n",
    "                                    Z[i,j] += np.exp(-1*a/(2*sigma**2))                    \n",
    "\n",
    "            \n",
    "        return Z  \n",
    "    ##ASSUMES RBF KERNEL\n",
    "    def calculateKernelizedProduct(self,x_train,y_train,sigma,degree):\n",
    "        x_train_copy = x_train\n",
    "        y_train_copy = y_train\n",
    "        total_Classes = len(np.unique(y_train))\n",
    "        x_dim = (x_train.shape[0]*(total_Classes-1))\n",
    "        y_dim = total_Classes \n",
    "        mat2 = np.zeros((x_dim,y_dim))\n",
    "        cnt = 0\n",
    "#         m = (x_train.shape[0]*(total_Classes-1))\n",
    "        s = x_train_copy.shape[0]\n",
    "        non_Zero_Values = []\n",
    "        print('\\n Step 2')\n",
    "        \n",
    "        for i in notebook(range(0, s)):\n",
    "            for z in range(0,total_Classes):\n",
    "                if(y_train_copy[i]!=z):   \n",
    "                    t_arr = []\n",
    "                    for j in range(0,total_Classes):\n",
    "                        if(j==y_train_copy[i]):\n",
    "                            t_arr.append(j)\n",
    "                            t_arr.append(i+1)\n",
    "                            mat2[cnt,j] = i+1\n",
    "                        elif(j==z):\n",
    "                            t_arr.append(j)\n",
    "                            t_arr.append(-(i+1))\n",
    "                            mat2[cnt,j] = -(i+1)\n",
    "                    cnt += 1\n",
    "                    non_Zero_Values.append(t_arr)\n",
    "                    \n",
    "        \n",
    "        matrix2 = mat2.T\n",
    "        M2 = scipy.sparse.coo_matrix(mat2)\n",
    "        M3 = scipy.sparse.coo_matrix(mat2.T)\n",
    "        m = (x_train.shape[0]*(total_Classes-1))\n",
    "        Z = np.zeros((m,m))\n",
    "        t_coeff = (1/( x_train_copy.shape[1]+1))\n",
    "        \n",
    "        \n",
    "        \n",
    "        matrix2 = matrix2.tolist()\n",
    "        \n",
    "        print('\\n Step 3')\n",
    "        for i in notebook(range(0,m)):\n",
    "                for j in range(0,i+1):\n",
    "                    \n",
    "                    \n",
    "                    x1 = 1\n",
    "                    x2 = 1\n",
    "                    x3 = 1\n",
    "                    x4 = 1\n",
    "                    \n",
    "                    s1 = non_Zero_Values[i][1]\n",
    "                    \n",
    "                    s2 =non_Zero_Values[i][3]\n",
    "                    \n",
    "                    loc_s1 = non_Zero_Values[i][0]\n",
    "                    \n",
    "                    loc_s2 = non_Zero_Values[i][2]\n",
    "                    \n",
    "                    s3 = matrix2[loc_s1][j]\n",
    "                    s4 = matrix2[loc_s2][j]\n",
    "                    \n",
    "                    e = 2.718281828459045\n",
    "                    \n",
    "                    if(s1 < 0):\n",
    "                        x1 = -1\n",
    "                    if(s2 < 0):\n",
    "                        x2 = -1\n",
    "                    if(s3 < 0):\n",
    "                        x3 = -1\n",
    "                    if(s4 < 0):\n",
    "                        x4 = -1\n",
    "                        \n",
    "                    if(s3 != 0):\n",
    "                        c1 = np.append(x1*x_train_copy[int(x1*s1)-1,:],x1)\n",
    "                        c2 = np.append(x3*x_train_copy[int(x3*s3)-1,:],x3)\n",
    "                        b = c1 - c2\n",
    "                        a = np.linalg.norm(b)**2                      \n",
    "                        Z[i,j] += (e)**(-1*(a)/(2*sigma**2))\n",
    "                        \n",
    "                    if(s4 != 0):\n",
    "                        c1 = np.append(x2*x_train_copy[int(x2*s2)-1,:],x2)\n",
    "                        c2 = np.append(x4*x_train_copy[int(x4*s4)-1,:],x4)\n",
    "                        b = c1 - c2\n",
    "                        a = np.linalg.norm(b)**2\n",
    "                        Z[i,j] += (e)** (-1*(a)/(2*sigma**2))    \n",
    "    \n",
    "        \n",
    "        \n",
    "        print('\\n Step 4')\n",
    "        for i in notebook(range(0,m)):\n",
    "            for j in range(0,i+1):\n",
    "                if(j>i):\n",
    "                    Z[i,j]=Z[j,i]  \n",
    "                    \n",
    "        print('\\n Model Trained')        \n",
    "\n",
    "        return Z,mat2"
   ]
  },
  {
   "cell_type": "code",
   "execution_count": 227,
   "id": "c11d7daa",
   "metadata": {},
   "outputs": [],
   "source": [
    "dry_bean_data = pd.read_csv('Dry_Bean_Dataset.csv')\n",
    "\n",
    "codes = {'SEKER': 0, 'HOROZ':1,'CALI':2, 'BARBUNYA':3,'BOMBAY':4,'DERMASON':5, 'SIRA':6}\n",
    "\n",
    "dry_bean_data['class_new'] = dry_bean_data['Class'].map(codes)\n",
    "\n",
    "# dry_bean_data = dry_bean_data.head(5000)\n",
    "\n",
    "# dry_bean_data = dry_bean_data.sort_values(by = 'Area')\n",
    "\n",
    "# dry_bean_data = dry_bean_data.sample(2000)\n",
    "\n",
    "\n",
    "\n",
    "# dry_bean_data "
   ]
  },
  {
   "cell_type": "code",
   "execution_count": 228,
   "id": "cce4ea7d",
   "metadata": {},
   "outputs": [],
   "source": [
    "X = dry_bean_data.copy()\n",
    "columns_to_drop  = ['Class','Area','EquivDiameter','ShapeFactor3','Perimeter','AspectRation'\n",
    "                   ,'MinorAxisLength','Compactness','MinorAxisLength']\n",
    "X.drop(columns_to_drop,axis=1,inplace=True)"
   ]
  },
  {
   "cell_type": "code",
   "execution_count": 229,
   "id": "57260d43",
   "metadata": {},
   "outputs": [
    {
     "data": {
      "text/plain": [
       "class_new\n",
       "5            3546\n",
       "6            2636\n",
       "0            2027\n",
       "1            1928\n",
       "2            1630\n",
       "3            1322\n",
       "4             522\n",
       "dtype: int64"
      ]
     },
     "execution_count": 229,
     "metadata": {},
     "output_type": "execute_result"
    }
   ],
   "source": [
    "X_new = X.iloc[:, 0:9]\n",
    "Y =  X.iloc[:, 9:]\n",
    "Y.value_counts()"
   ]
  },
  {
   "cell_type": "code",
   "execution_count": 230,
   "id": "d4916952",
   "metadata": {},
   "outputs": [],
   "source": [
    "from sklearn.model_selection import train_test_split\n",
    "\n",
    "X_train, X_test, y_train, y_test = train_test_split(X_new, Y, test_size=0.33, random_state=42)"
   ]
  },
  {
   "cell_type": "code",
   "execution_count": 231,
   "id": "22864adf",
   "metadata": {},
   "outputs": [],
   "source": [
    "\n",
    "from imblearn.datasets import make_imbalance\n",
    "# from imblearn.under_sampling import NearMiss\n",
    "# from imblearn.pipeline import make_pipeline\n",
    "# from imblearn.metrics import classification_report_imbalanced\n",
    "\n",
    "\n",
    "RANDOM_STATE = 42\n",
    "# X_res, y_res  = make_imbalance(\n",
    "#     X_new,\n",
    "#     Y,\n",
    "#     sampling_strategy={0: , 1:10, 2: 10, 3:10, 4:10,5:10,6:10},\n",
    "#     random_state=RANDOM_STATE,\n",
    "# )\n",
    "\n",
    "\n",
    "\n",
    "X_res, y_res  = make_imbalance(\n",
    "    X_new,\n",
    "    Y,\n",
    "    sampling_strategy={0: 10, 1:10, 2: 10, 3:10, 4:10,5:10,6:10},\n",
    "    random_state=RANDOM_STATE,\n",
    ")"
   ]
  },
  {
   "cell_type": "code",
   "execution_count": 232,
   "id": "cc84f91a",
   "metadata": {},
   "outputs": [],
   "source": [
    "X_train, X_test, y_train, y_test = train_test_split(X_res, y_res,test_size=0.33, random_state=RANDOM_STATE)"
   ]
  },
  {
   "cell_type": "code",
   "execution_count": 233,
   "id": "cf6d1a56",
   "metadata": {},
   "outputs": [],
   "source": [
    "from sklearn.preprocessing import StandardScaler\n",
    "import numpy as np\n",
    "# Scale the features\n",
    "\n",
    "scaler = StandardScaler()\n",
    "X_train_scaled = scaler.fit_transform(X_train.astype(np.float64))\n",
    "\n",
    "X_test_scaled = scaler.fit_transform(X_test.astype(np.float64))\n",
    "\n",
    "y_n = y_train.to_numpy()\n",
    "\n",
    "y_n1 = y_test.to_numpy()"
   ]
  },
  {
   "cell_type": "code",
   "execution_count": 234,
   "id": "18affdcb",
   "metadata": {},
   "outputs": [
    {
     "name": "stdout",
     "output_type": "stream",
     "text": [
      "step 1\n"
     ]
    },
    {
     "data": {
      "application/vnd.jupyter.widget-view+json": {
       "model_id": "2c627bd27773475cad5ed5a2dbaf3942",
       "version_major": 2,
       "version_minor": 0
      },
      "text/plain": [
       "  0%|          | 0/46 [00:00<?, ?it/s]"
      ]
     },
     "metadata": {},
     "output_type": "display_data"
    },
    {
     "name": "stdout",
     "output_type": "stream",
     "text": [
      "\n",
      " Step 2\n"
     ]
    },
    {
     "data": {
      "application/vnd.jupyter.widget-view+json": {
       "model_id": "fc6f3f70b8dc49ba8ecf607dc4c3a322",
       "version_major": 2,
       "version_minor": 0
      },
      "text/plain": [
       "  0%|          | 0/46 [00:00<?, ?it/s]"
      ]
     },
     "metadata": {},
     "output_type": "display_data"
    },
    {
     "name": "stdout",
     "output_type": "stream",
     "text": [
      "\n",
      " Step 3\n"
     ]
    },
    {
     "data": {
      "application/vnd.jupyter.widget-view+json": {
       "model_id": "74519c2824024116a8eaada5fd339302",
       "version_major": 2,
       "version_minor": 0
      },
      "text/plain": [
       "  0%|          | 0/276 [00:00<?, ?it/s]"
      ]
     },
     "metadata": {},
     "output_type": "display_data"
    },
    {
     "name": "stdout",
     "output_type": "stream",
     "text": [
      "\n",
      " Step 4\n"
     ]
    },
    {
     "data": {
      "application/vnd.jupyter.widget-view+json": {
       "model_id": "f62289bfa88b43b28a3d4f520ed5ea47",
       "version_major": 2,
       "version_minor": 0
      },
      "text/plain": [
       "  0%|          | 0/276 [00:00<?, ?it/s]"
      ]
     },
     "metadata": {},
     "output_type": "display_data"
    },
    {
     "name": "stdout",
     "output_type": "stream",
     "text": [
      "\n",
      " Model Trained\n",
      "     pcost       dcost       gap    pres   dres\n",
      " 0:  1.0725e+03 -4.7794e+03  6e+03  5e-17  3e-15\n",
      " 1:  1.4104e+02 -3.2686e+02  5e+02  2e-16  3e-15\n",
      " 2: -5.0380e+00 -6.7142e+01  6e+01  2e-16  9e-16\n",
      " 3: -1.8230e+01 -2.4756e+01  7e+00  2e-16  5e-16\n",
      " 4: -1.8628e+01 -1.8849e+01  2e-01  2e-16  3e-16\n",
      " 5: -1.8629e+01 -1.8631e+01  2e-03  2e-16  2e-16\n",
      " 6: -1.8629e+01 -1.8629e+01  2e-05  2e-16  2e-16\n",
      " 7: -1.8629e+01 -1.8629e+01  2e-07  2e-16  2e-16\n",
      "Optimal solution found.\n",
      "\n",
      " Time taken for training in seconds:  3.1793110370635986\n",
      "\n",
      " Calculating prediction values\n"
     ]
    },
    {
     "data": {
      "application/vnd.jupyter.widget-view+json": {
       "model_id": "87261d5ea05e4ef5a9ea4565f4fbf80b",
       "version_major": 2,
       "version_minor": 0
      },
      "text/plain": [
       "  0%|          | 0/24 [00:00<?, ?it/s]"
      ]
     },
     "metadata": {},
     "output_type": "display_data"
    }
   ],
   "source": [
    "degree = 4\n",
    "sigma = 0.4 \n",
    "\n",
    "C = 10 \n",
    "a1 = SVM_MULTICLASS()\n",
    "start_time = time.time()\n",
    "a1.train(X_train_scaled,y_n,C,degree,sigma)\n",
    "\n",
    "import pickle\n",
    "with open('model_svm', 'wb') as f:\n",
    "    pickle.dump(a1,f)\n",
    "\n",
    "print('\\n Time taken for training in seconds: ', time.time()-start_time )\n",
    "predictedLabels = a1.predict(X_test_scaled)\n"
   ]
  },
  {
   "cell_type": "code",
   "execution_count": 235,
   "id": "07c9de05",
   "metadata": {},
   "outputs": [
    {
     "name": "stdout",
     "output_type": "stream",
     "text": [
      "\n",
      " Calculating prediction values\n"
     ]
    },
    {
     "data": {
      "application/vnd.jupyter.widget-view+json": {
       "model_id": "27be63775ffe4e3e9b515883e99e9e91",
       "version_major": 2,
       "version_minor": 0
      },
      "text/plain": [
       "  0%|          | 0/24 [00:00<?, ?it/s]"
      ]
     },
     "metadata": {},
     "output_type": "display_data"
    }
   ],
   "source": [
    "predictedLabels = a1.predict(X_test_scaled)"
   ]
  },
  {
   "cell_type": "code",
   "execution_count": null,
   "id": "bc8f7301",
   "metadata": {},
   "outputs": [],
   "source": []
  },
  {
   "cell_type": "code",
   "execution_count": 236,
   "id": "e060f89e",
   "metadata": {},
   "outputs": [
    {
     "data": {
      "text/plain": [
       "array([1.        , 0.88888889, 0.8       , 0.75      , 1.        ,\n",
       "       1.        , 0.5       ])"
      ]
     },
     "execution_count": 236,
     "metadata": {},
     "output_type": "execute_result"
    }
   ],
   "source": [
    "\n",
    "from sklearn.metrics import f1_score, accuracy_score\n",
    "f1_score(y_n1,predictedLabels, average = None)\n"
   ]
  },
  {
   "cell_type": "code",
   "execution_count": 237,
   "id": "5baf84dd",
   "metadata": {},
   "outputs": [
    {
     "data": {
      "text/plain": [
       "0.875"
      ]
     },
     "execution_count": 237,
     "metadata": {},
     "output_type": "execute_result"
    }
   ],
   "source": [
    "accuracy_score(y_n1,predictedLabels)\n"
   ]
  },
  {
   "cell_type": "code",
   "execution_count": 238,
   "id": "1e339fd4",
   "metadata": {},
   "outputs": [
    {
     "data": {
      "text/html": [
       "<div>\n",
       "<style scoped>\n",
       "    .dataframe tbody tr th:only-of-type {\n",
       "        vertical-align: middle;\n",
       "    }\n",
       "\n",
       "    .dataframe tbody tr th {\n",
       "        vertical-align: top;\n",
       "    }\n",
       "\n",
       "    .dataframe thead th {\n",
       "        text-align: right;\n",
       "    }\n",
       "</style>\n",
       "<table border=\"1\" class=\"dataframe\">\n",
       "  <thead>\n",
       "    <tr style=\"text-align: right;\">\n",
       "      <th>col_0</th>\n",
       "      <th>0</th>\n",
       "      <th>1</th>\n",
       "      <th>2</th>\n",
       "      <th>3</th>\n",
       "      <th>4</th>\n",
       "      <th>5</th>\n",
       "      <th>6</th>\n",
       "    </tr>\n",
       "    <tr>\n",
       "      <th>row_0</th>\n",
       "      <th></th>\n",
       "      <th></th>\n",
       "      <th></th>\n",
       "      <th></th>\n",
       "      <th></th>\n",
       "      <th></th>\n",
       "      <th></th>\n",
       "    </tr>\n",
       "  </thead>\n",
       "  <tbody>\n",
       "    <tr>\n",
       "      <th>0</th>\n",
       "      <td>4</td>\n",
       "      <td>0</td>\n",
       "      <td>0</td>\n",
       "      <td>0</td>\n",
       "      <td>0</td>\n",
       "      <td>0</td>\n",
       "      <td>0</td>\n",
       "    </tr>\n",
       "    <tr>\n",
       "      <th>1</th>\n",
       "      <td>0</td>\n",
       "      <td>4</td>\n",
       "      <td>0</td>\n",
       "      <td>0</td>\n",
       "      <td>0</td>\n",
       "      <td>0</td>\n",
       "      <td>1</td>\n",
       "    </tr>\n",
       "    <tr>\n",
       "      <th>2</th>\n",
       "      <td>0</td>\n",
       "      <td>0</td>\n",
       "      <td>2</td>\n",
       "      <td>1</td>\n",
       "      <td>0</td>\n",
       "      <td>0</td>\n",
       "      <td>0</td>\n",
       "    </tr>\n",
       "    <tr>\n",
       "      <th>3</th>\n",
       "      <td>0</td>\n",
       "      <td>0</td>\n",
       "      <td>0</td>\n",
       "      <td>3</td>\n",
       "      <td>0</td>\n",
       "      <td>0</td>\n",
       "      <td>0</td>\n",
       "    </tr>\n",
       "    <tr>\n",
       "      <th>4</th>\n",
       "      <td>0</td>\n",
       "      <td>0</td>\n",
       "      <td>0</td>\n",
       "      <td>0</td>\n",
       "      <td>4</td>\n",
       "      <td>0</td>\n",
       "      <td>0</td>\n",
       "    </tr>\n",
       "    <tr>\n",
       "      <th>5</th>\n",
       "      <td>0</td>\n",
       "      <td>0</td>\n",
       "      <td>0</td>\n",
       "      <td>0</td>\n",
       "      <td>0</td>\n",
       "      <td>3</td>\n",
       "      <td>0</td>\n",
       "    </tr>\n",
       "    <tr>\n",
       "      <th>6</th>\n",
       "      <td>0</td>\n",
       "      <td>0</td>\n",
       "      <td>0</td>\n",
       "      <td>1</td>\n",
       "      <td>0</td>\n",
       "      <td>0</td>\n",
       "      <td>1</td>\n",
       "    </tr>\n",
       "  </tbody>\n",
       "</table>\n",
       "</div>"
      ],
      "text/plain": [
       "col_0  0  1  2  3  4  5  6\n",
       "row_0                     \n",
       "0      4  0  0  0  0  0  0\n",
       "1      0  4  0  0  0  0  1\n",
       "2      0  0  2  1  0  0  0\n",
       "3      0  0  0  3  0  0  0\n",
       "4      0  0  0  0  4  0  0\n",
       "5      0  0  0  0  0  3  0\n",
       "6      0  0  0  1  0  0  1"
      ]
     },
     "execution_count": 238,
     "metadata": {},
     "output_type": "execute_result"
    }
   ],
   "source": [
    "conMatrix = pd.crosstab(np.array(predictedLabels).ravel(),y_n1.reshape(-1,1).ravel())\n",
    "conMatrix"
   ]
  },
  {
   "cell_type": "code",
   "execution_count": null,
   "id": "3d1421fb",
   "metadata": {},
   "outputs": [],
   "source": []
  },
  {
   "cell_type": "code",
   "execution_count": null,
   "id": "6aa68393",
   "metadata": {},
   "outputs": [],
   "source": []
  },
  {
   "cell_type": "code",
   "execution_count": null,
   "id": "66c5f1cb",
   "metadata": {},
   "outputs": [],
   "source": []
  },
  {
   "cell_type": "code",
   "execution_count": null,
   "id": "5125ca2e",
   "metadata": {},
   "outputs": [],
   "source": []
  },
  {
   "cell_type": "code",
   "execution_count": null,
   "id": "4a33181e",
   "metadata": {},
   "outputs": [],
   "source": []
  },
  {
   "cell_type": "code",
   "execution_count": null,
   "id": "cd10142c",
   "metadata": {},
   "outputs": [],
   "source": []
  },
  {
   "cell_type": "code",
   "execution_count": null,
   "id": "5befc717",
   "metadata": {},
   "outputs": [],
   "source": []
  },
  {
   "cell_type": "code",
   "execution_count": null,
   "id": "54c91208",
   "metadata": {},
   "outputs": [],
   "source": []
  },
  {
   "cell_type": "code",
   "execution_count": null,
   "id": "f703fd49",
   "metadata": {},
   "outputs": [],
   "source": []
  },
  {
   "cell_type": "code",
   "execution_count": null,
   "id": "3be7e670",
   "metadata": {},
   "outputs": [],
   "source": []
  },
  {
   "cell_type": "code",
   "execution_count": null,
   "id": "679d58ab",
   "metadata": {},
   "outputs": [],
   "source": []
  },
  {
   "cell_type": "code",
   "execution_count": null,
   "id": "ae80b020",
   "metadata": {},
   "outputs": [],
   "source": []
  },
  {
   "cell_type": "code",
   "execution_count": null,
   "id": "42043931",
   "metadata": {},
   "outputs": [],
   "source": []
  },
  {
   "cell_type": "code",
   "execution_count": null,
   "id": "a33e4fff",
   "metadata": {},
   "outputs": [],
   "source": []
  },
  {
   "cell_type": "code",
   "execution_count": null,
   "id": "c05b1b32",
   "metadata": {},
   "outputs": [],
   "source": []
  },
  {
   "cell_type": "code",
   "execution_count": null,
   "id": "404d9c7b",
   "metadata": {},
   "outputs": [],
   "source": []
  },
  {
   "cell_type": "code",
   "execution_count": null,
   "id": "9b5d13e5",
   "metadata": {},
   "outputs": [],
   "source": []
  }
 ],
 "metadata": {
  "kernelspec": {
   "display_name": "Python 3 (ipykernel)",
   "language": "python",
   "name": "python3"
  },
  "language_info": {
   "codemirror_mode": {
    "name": "ipython",
    "version": 3
   },
   "file_extension": ".py",
   "mimetype": "text/x-python",
   "name": "python",
   "nbconvert_exporter": "python",
   "pygments_lexer": "ipython3",
   "version": "3.9.13"
  }
 },
 "nbformat": 4,
 "nbformat_minor": 5
}
